{
 "cells": [
  {
   "cell_type": "markdown",
   "id": "566c8756",
   "metadata": {},
   "source": [
    "# Classification Neural Network"
   ]
  },
  {
   "cell_type": "code",
   "execution_count": 1,
   "id": "4f46dfc2",
   "metadata": {},
   "outputs": [],
   "source": [
    "# Importing the libraries\n",
    "import numpy as np\n",
    "import matplotlib.pyplot as plt\n",
    "import pandas as pd"
   ]
  },
  {
   "cell_type": "code",
   "execution_count": 2,
   "id": "dd5b1662",
   "metadata": {},
   "outputs": [],
   "source": [
    "# Importing prepared dataset\n",
    "import pickle\n",
    "input = open('data_LogRegr.pkl', 'rb')\n",
    "obj = pickle.load(input)\n",
    "input.close()\n",
    "X_train = obj[\"X_train\"]\n",
    "X_test = obj[\"X_test\"]\n",
    "y_train = obj[\"y_train\"]\n",
    "y_test = obj[\"y_test\"]"
   ]
  },
  {
   "cell_type": "code",
   "execution_count": 3,
   "id": "70e877b8",
   "metadata": {},
   "outputs": [],
   "source": [
    "#!pip install Tensorflow\n",
    "#!pip install Keras\n",
    "# Importing the Keras libraries and packages\n",
    "import keras\n",
    "from keras.models import Sequential\n",
    "from keras.layers import Dense"
   ]
  },
  {
   "cell_type": "code",
   "execution_count": 4,
   "id": "67f678f6",
   "metadata": {},
   "outputs": [],
   "source": [
    "# Initialising the ANN\n",
    "cnn = Sequential()\n",
    "\n",
    "# Adding the input layer and the first hidden layer\n",
    "cnn.add(Dense(10, activation = 'relu', input_dim = 8))\n",
    "\n",
    "# Adding the output layer\n",
    "cnn.add(Dense(5, activation = 'sigmoid'))\n",
    "\n",
    "\n",
    "# Adding the output layer\n",
    "cnn.add(Dense(1, activation = 'sigmoid'))\n",
    "\n",
    "# Compiling the ANN\n",
    "cnn.compile(optimizer = 'adam', loss = 'binary_crossentropy', metrics = ['accuracy'])"
   ]
  },
  {
   "cell_type": "code",
   "execution_count": 5,
   "id": "f9686d9a",
   "metadata": {},
   "outputs": [],
   "source": [
    "import sys\n",
    "sys.setrecursionlimit(10000)"
   ]
  },
  {
   "cell_type": "code",
   "execution_count": 6,
   "id": "99986bd3",
   "metadata": {},
   "outputs": [
    {
     "name": "stdout",
     "output_type": "stream",
     "text": [
      "Epoch 1/100\n",
      "2/2 [==============================] - 1s 391ms/step - loss: 0.8080 - accuracy: 0.3922 - val_loss: 0.7327 - val_accuracy: 0.4444\n",
      "Epoch 2/100\n",
      "2/2 [==============================] - 0s 48ms/step - loss: 0.8044 - accuracy: 0.3922 - val_loss: 0.7290 - val_accuracy: 0.4444\n",
      "Epoch 3/100\n",
      "2/2 [==============================] - 0s 35ms/step - loss: 0.8001 - accuracy: 0.4118 - val_loss: 0.7254 - val_accuracy: 0.4444\n",
      "Epoch 4/100\n",
      "2/2 [==============================] - 0s 34ms/step - loss: 0.7968 - accuracy: 0.3922 - val_loss: 0.7219 - val_accuracy: 0.4444\n",
      "Epoch 5/100\n",
      "2/2 [==============================] - 0s 37ms/step - loss: 0.7930 - accuracy: 0.3922 - val_loss: 0.7184 - val_accuracy: 0.4444\n",
      "Epoch 6/100\n",
      "2/2 [==============================] - 0s 34ms/step - loss: 0.7890 - accuracy: 0.3922 - val_loss: 0.7150 - val_accuracy: 0.4444\n",
      "Epoch 7/100\n",
      "2/2 [==============================] - 0s 39ms/step - loss: 0.7858 - accuracy: 0.3922 - val_loss: 0.7117 - val_accuracy: 0.4444\n",
      "Epoch 8/100\n",
      "2/2 [==============================] - 0s 36ms/step - loss: 0.7816 - accuracy: 0.3922 - val_loss: 0.7084 - val_accuracy: 0.4444\n",
      "Epoch 9/100\n",
      "2/2 [==============================] - 0s 30ms/step - loss: 0.7787 - accuracy: 0.3922 - val_loss: 0.7052 - val_accuracy: 0.5000\n",
      "Epoch 10/100\n",
      "2/2 [==============================] - 0s 35ms/step - loss: 0.7749 - accuracy: 0.3922 - val_loss: 0.7021 - val_accuracy: 0.5000\n",
      "Epoch 11/100\n",
      "2/2 [==============================] - 0s 34ms/step - loss: 0.7712 - accuracy: 0.4118 - val_loss: 0.6991 - val_accuracy: 0.5000\n",
      "Epoch 12/100\n",
      "2/2 [==============================] - 0s 32ms/step - loss: 0.7680 - accuracy: 0.4118 - val_loss: 0.6961 - val_accuracy: 0.5000\n",
      "Epoch 13/100\n",
      "2/2 [==============================] - 0s 32ms/step - loss: 0.7650 - accuracy: 0.4118 - val_loss: 0.6932 - val_accuracy: 0.5000\n",
      "Epoch 14/100\n",
      "2/2 [==============================] - 0s 32ms/step - loss: 0.7614 - accuracy: 0.4118 - val_loss: 0.6903 - val_accuracy: 0.5556\n",
      "Epoch 15/100\n",
      "2/2 [==============================] - 0s 36ms/step - loss: 0.7581 - accuracy: 0.4118 - val_loss: 0.6874 - val_accuracy: 0.6111\n",
      "Epoch 16/100\n",
      "2/2 [==============================] - 0s 33ms/step - loss: 0.7551 - accuracy: 0.4118 - val_loss: 0.6846 - val_accuracy: 0.6111\n",
      "Epoch 17/100\n",
      "2/2 [==============================] - 0s 37ms/step - loss: 0.7518 - accuracy: 0.4314 - val_loss: 0.6819 - val_accuracy: 0.6111\n",
      "Epoch 18/100\n",
      "2/2 [==============================] - 0s 37ms/step - loss: 0.7491 - accuracy: 0.4314 - val_loss: 0.6792 - val_accuracy: 0.6111\n",
      "Epoch 19/100\n",
      "2/2 [==============================] - 0s 36ms/step - loss: 0.7462 - accuracy: 0.4314 - val_loss: 0.6765 - val_accuracy: 0.5556\n",
      "Epoch 20/100\n",
      "2/2 [==============================] - 0s 36ms/step - loss: 0.7431 - accuracy: 0.4314 - val_loss: 0.6739 - val_accuracy: 0.5556\n",
      "Epoch 21/100\n",
      "2/2 [==============================] - 0s 37ms/step - loss: 0.7402 - accuracy: 0.4314 - val_loss: 0.6714 - val_accuracy: 0.5556\n",
      "Epoch 22/100\n",
      "2/2 [==============================] - 0s 39ms/step - loss: 0.7377 - accuracy: 0.4314 - val_loss: 0.6689 - val_accuracy: 0.5556\n",
      "Epoch 23/100\n",
      "2/2 [==============================] - 0s 35ms/step - loss: 0.7349 - accuracy: 0.4314 - val_loss: 0.6664 - val_accuracy: 0.5556\n",
      "Epoch 24/100\n",
      "2/2 [==============================] - 0s 36ms/step - loss: 0.7321 - accuracy: 0.4510 - val_loss: 0.6640 - val_accuracy: 0.6111\n",
      "Epoch 25/100\n",
      "2/2 [==============================] - 0s 34ms/step - loss: 0.7293 - accuracy: 0.4510 - val_loss: 0.6617 - val_accuracy: 0.6111\n",
      "Epoch 26/100\n",
      "2/2 [==============================] - 0s 31ms/step - loss: 0.7270 - accuracy: 0.4510 - val_loss: 0.6594 - val_accuracy: 0.6111\n",
      "Epoch 27/100\n",
      "2/2 [==============================] - 0s 33ms/step - loss: 0.7243 - accuracy: 0.4510 - val_loss: 0.6573 - val_accuracy: 0.6111\n",
      "Epoch 28/100\n",
      "2/2 [==============================] - 0s 36ms/step - loss: 0.7216 - accuracy: 0.4706 - val_loss: 0.6551 - val_accuracy: 0.6111\n",
      "Epoch 29/100\n",
      "2/2 [==============================] - 0s 33ms/step - loss: 0.7193 - accuracy: 0.4706 - val_loss: 0.6530 - val_accuracy: 0.6667\n",
      "Epoch 30/100\n",
      "2/2 [==============================] - 0s 33ms/step - loss: 0.7174 - accuracy: 0.4510 - val_loss: 0.6509 - val_accuracy: 0.6667\n",
      "Epoch 31/100\n",
      "2/2 [==============================] - 0s 37ms/step - loss: 0.7148 - accuracy: 0.4314 - val_loss: 0.6488 - val_accuracy: 0.7222\n",
      "Epoch 32/100\n",
      "2/2 [==============================] - 0s 38ms/step - loss: 0.7122 - accuracy: 0.4314 - val_loss: 0.6468 - val_accuracy: 0.7222\n",
      "Epoch 33/100\n",
      "2/2 [==============================] - 0s 43ms/step - loss: 0.7102 - accuracy: 0.4314 - val_loss: 0.6449 - val_accuracy: 0.7222\n",
      "Epoch 34/100\n",
      "2/2 [==============================] - 0s 37ms/step - loss: 0.7079 - accuracy: 0.4510 - val_loss: 0.6430 - val_accuracy: 0.7778\n",
      "Epoch 35/100\n",
      "2/2 [==============================] - 0s 31ms/step - loss: 0.7059 - accuracy: 0.4510 - val_loss: 0.6412 - val_accuracy: 0.7778\n",
      "Epoch 36/100\n",
      "2/2 [==============================] - 0s 34ms/step - loss: 0.7038 - accuracy: 0.4510 - val_loss: 0.6393 - val_accuracy: 0.7778\n",
      "Epoch 37/100\n",
      "2/2 [==============================] - 0s 35ms/step - loss: 0.7016 - accuracy: 0.4706 - val_loss: 0.6375 - val_accuracy: 0.7778\n",
      "Epoch 38/100\n",
      "2/2 [==============================] - 0s 32ms/step - loss: 0.6996 - accuracy: 0.4902 - val_loss: 0.6358 - val_accuracy: 0.7778\n",
      "Epoch 39/100\n",
      "2/2 [==============================] - 0s 33ms/step - loss: 0.6976 - accuracy: 0.4902 - val_loss: 0.6340 - val_accuracy: 0.7778\n",
      "Epoch 40/100\n",
      "2/2 [==============================] - 0s 31ms/step - loss: 0.6956 - accuracy: 0.5294 - val_loss: 0.6323 - val_accuracy: 0.7778\n",
      "Epoch 41/100\n",
      "2/2 [==============================] - 0s 32ms/step - loss: 0.6939 - accuracy: 0.5490 - val_loss: 0.6307 - val_accuracy: 0.7778\n",
      "Epoch 42/100\n",
      "2/2 [==============================] - 0s 33ms/step - loss: 0.6921 - accuracy: 0.5490 - val_loss: 0.6291 - val_accuracy: 0.7778\n",
      "Epoch 43/100\n",
      "2/2 [==============================] - 0s 34ms/step - loss: 0.6904 - accuracy: 0.5490 - val_loss: 0.6275 - val_accuracy: 0.7222\n",
      "Epoch 44/100\n",
      "2/2 [==============================] - 0s 35ms/step - loss: 0.6884 - accuracy: 0.5490 - val_loss: 0.6260 - val_accuracy: 0.7222\n",
      "Epoch 45/100\n",
      "2/2 [==============================] - 0s 32ms/step - loss: 0.6868 - accuracy: 0.5490 - val_loss: 0.6244 - val_accuracy: 0.7222\n",
      "Epoch 46/100\n",
      "2/2 [==============================] - 0s 32ms/step - loss: 0.6849 - accuracy: 0.5490 - val_loss: 0.6230 - val_accuracy: 0.7222\n",
      "Epoch 47/100\n",
      "2/2 [==============================] - 0s 31ms/step - loss: 0.6833 - accuracy: 0.5490 - val_loss: 0.6217 - val_accuracy: 0.7222\n",
      "Epoch 48/100\n",
      "2/2 [==============================] - 0s 32ms/step - loss: 0.6820 - accuracy: 0.5686 - val_loss: 0.6204 - val_accuracy: 0.7222\n",
      "Epoch 49/100\n",
      "2/2 [==============================] - 0s 33ms/step - loss: 0.6802 - accuracy: 0.5490 - val_loss: 0.6190 - val_accuracy: 0.7222\n",
      "Epoch 50/100\n",
      "2/2 [==============================] - 0s 31ms/step - loss: 0.6789 - accuracy: 0.5490 - val_loss: 0.6178 - val_accuracy: 0.7222\n",
      "Epoch 51/100\n",
      "2/2 [==============================] - 0s 33ms/step - loss: 0.6772 - accuracy: 0.5686 - val_loss: 0.6166 - val_accuracy: 0.7222\n",
      "Epoch 52/100\n",
      "2/2 [==============================] - 0s 38ms/step - loss: 0.6757 - accuracy: 0.5882 - val_loss: 0.6154 - val_accuracy: 0.7222\n",
      "Epoch 53/100\n",
      "2/2 [==============================] - 0s 39ms/step - loss: 0.6743 - accuracy: 0.5882 - val_loss: 0.6142 - val_accuracy: 0.7222\n",
      "Epoch 54/100\n",
      "2/2 [==============================] - 0s 36ms/step - loss: 0.6727 - accuracy: 0.6078 - val_loss: 0.6131 - val_accuracy: 0.7222\n",
      "Epoch 55/100\n",
      "2/2 [==============================] - 0s 31ms/step - loss: 0.6716 - accuracy: 0.6275 - val_loss: 0.6119 - val_accuracy: 0.7222\n",
      "Epoch 56/100\n",
      "2/2 [==============================] - 0s 29ms/step - loss: 0.6700 - accuracy: 0.6275 - val_loss: 0.6108 - val_accuracy: 0.7222\n",
      "Epoch 57/100\n",
      "2/2 [==============================] - 0s 31ms/step - loss: 0.6687 - accuracy: 0.6275 - val_loss: 0.6098 - val_accuracy: 0.7222\n",
      "Epoch 58/100\n",
      "2/2 [==============================] - 0s 31ms/step - loss: 0.6673 - accuracy: 0.6275 - val_loss: 0.6087 - val_accuracy: 0.7778\n",
      "Epoch 59/100\n"
     ]
    },
    {
     "name": "stdout",
     "output_type": "stream",
     "text": [
      "2/2 [==============================] - 0s 29ms/step - loss: 0.6661 - accuracy: 0.6275 - val_loss: 0.6077 - val_accuracy: 0.7778\n",
      "Epoch 60/100\n",
      "2/2 [==============================] - 0s 30ms/step - loss: 0.6648 - accuracy: 0.6275 - val_loss: 0.6067 - val_accuracy: 0.7778\n",
      "Epoch 61/100\n",
      "2/2 [==============================] - 0s 30ms/step - loss: 0.6634 - accuracy: 0.6078 - val_loss: 0.6057 - val_accuracy: 0.7778\n",
      "Epoch 62/100\n",
      "2/2 [==============================] - 0s 32ms/step - loss: 0.6623 - accuracy: 0.6078 - val_loss: 0.6046 - val_accuracy: 0.7778\n",
      "Epoch 63/100\n",
      "2/2 [==============================] - 0s 32ms/step - loss: 0.6612 - accuracy: 0.6078 - val_loss: 0.6036 - val_accuracy: 0.7778\n",
      "Epoch 64/100\n",
      "2/2 [==============================] - 0s 31ms/step - loss: 0.6600 - accuracy: 0.6078 - val_loss: 0.6027 - val_accuracy: 0.7778\n",
      "Epoch 65/100\n",
      "2/2 [==============================] - 0s 31ms/step - loss: 0.6590 - accuracy: 0.6275 - val_loss: 0.6017 - val_accuracy: 0.7778\n",
      "Epoch 66/100\n",
      "2/2 [==============================] - 0s 33ms/step - loss: 0.6576 - accuracy: 0.6471 - val_loss: 0.6008 - val_accuracy: 0.7778\n",
      "Epoch 67/100\n",
      "2/2 [==============================] - 0s 28ms/step - loss: 0.6566 - accuracy: 0.6471 - val_loss: 0.5999 - val_accuracy: 0.7778\n",
      "Epoch 68/100\n",
      "2/2 [==============================] - 0s 30ms/step - loss: 0.6556 - accuracy: 0.6471 - val_loss: 0.5990 - val_accuracy: 0.7778\n",
      "Epoch 69/100\n",
      "2/2 [==============================] - 0s 30ms/step - loss: 0.6544 - accuracy: 0.6667 - val_loss: 0.5982 - val_accuracy: 0.7778\n",
      "Epoch 70/100\n",
      "2/2 [==============================] - 0s 28ms/step - loss: 0.6533 - accuracy: 0.6667 - val_loss: 0.5974 - val_accuracy: 0.7778\n",
      "Epoch 71/100\n",
      "2/2 [==============================] - 0s 29ms/step - loss: 0.6525 - accuracy: 0.6667 - val_loss: 0.5965 - val_accuracy: 0.7778\n",
      "Epoch 72/100\n",
      "2/2 [==============================] - 0s 67ms/step - loss: 0.6514 - accuracy: 0.6667 - val_loss: 0.5957 - val_accuracy: 0.7778\n",
      "Epoch 73/100\n",
      "2/2 [==============================] - 0s 37ms/step - loss: 0.6505 - accuracy: 0.6667 - val_loss: 0.5949 - val_accuracy: 0.7778\n",
      "Epoch 74/100\n",
      "2/2 [==============================] - 0s 29ms/step - loss: 0.6494 - accuracy: 0.6667 - val_loss: 0.5941 - val_accuracy: 0.7778\n",
      "Epoch 75/100\n",
      "2/2 [==============================] - 0s 28ms/step - loss: 0.6483 - accuracy: 0.6667 - val_loss: 0.5933 - val_accuracy: 0.7778\n",
      "Epoch 76/100\n",
      "2/2 [==============================] - 0s 31ms/step - loss: 0.6476 - accuracy: 0.6667 - val_loss: 0.5925 - val_accuracy: 0.7778\n",
      "Epoch 77/100\n",
      "2/2 [==============================] - 0s 31ms/step - loss: 0.6464 - accuracy: 0.6863 - val_loss: 0.5918 - val_accuracy: 0.7778\n",
      "Epoch 78/100\n",
      "2/2 [==============================] - 0s 27ms/step - loss: 0.6456 - accuracy: 0.7059 - val_loss: 0.5910 - val_accuracy: 0.7778\n",
      "Epoch 79/100\n",
      "2/2 [==============================] - 0s 32ms/step - loss: 0.6449 - accuracy: 0.7255 - val_loss: 0.5903 - val_accuracy: 0.7778\n",
      "Epoch 80/100\n",
      "2/2 [==============================] - 0s 30ms/step - loss: 0.6438 - accuracy: 0.7255 - val_loss: 0.5896 - val_accuracy: 0.7222\n",
      "Epoch 81/100\n",
      "2/2 [==============================] - 0s 29ms/step - loss: 0.6430 - accuracy: 0.7059 - val_loss: 0.5888 - val_accuracy: 0.7222\n",
      "Epoch 82/100\n",
      "2/2 [==============================] - 0s 29ms/step - loss: 0.6421 - accuracy: 0.7059 - val_loss: 0.5881 - val_accuracy: 0.7222\n",
      "Epoch 83/100\n",
      "2/2 [==============================] - 0s 29ms/step - loss: 0.6413 - accuracy: 0.7255 - val_loss: 0.5874 - val_accuracy: 0.7222\n",
      "Epoch 84/100\n",
      "2/2 [==============================] - 0s 27ms/step - loss: 0.6405 - accuracy: 0.7255 - val_loss: 0.5867 - val_accuracy: 0.7222\n",
      "Epoch 85/100\n",
      "2/2 [==============================] - 0s 29ms/step - loss: 0.6397 - accuracy: 0.7255 - val_loss: 0.5860 - val_accuracy: 0.7222\n",
      "Epoch 86/100\n",
      "2/2 [==============================] - 0s 30ms/step - loss: 0.6388 - accuracy: 0.7255 - val_loss: 0.5853 - val_accuracy: 0.6667\n",
      "Epoch 87/100\n",
      "2/2 [==============================] - 0s 29ms/step - loss: 0.6381 - accuracy: 0.7059 - val_loss: 0.5846 - val_accuracy: 0.6667\n",
      "Epoch 88/100\n",
      "2/2 [==============================] - 0s 27ms/step - loss: 0.6373 - accuracy: 0.7255 - val_loss: 0.5839 - val_accuracy: 0.6667\n",
      "Epoch 89/100\n",
      "2/2 [==============================] - 0s 29ms/step - loss: 0.6365 - accuracy: 0.7255 - val_loss: 0.5832 - val_accuracy: 0.7222\n",
      "Epoch 90/100\n",
      "2/2 [==============================] - 0s 27ms/step - loss: 0.6358 - accuracy: 0.7255 - val_loss: 0.5825 - val_accuracy: 0.7222\n",
      "Epoch 91/100\n",
      "2/2 [==============================] - 0s 28ms/step - loss: 0.6351 - accuracy: 0.7255 - val_loss: 0.5819 - val_accuracy: 0.7222\n",
      "Epoch 92/100\n",
      "2/2 [==============================] - 0s 27ms/step - loss: 0.6344 - accuracy: 0.7255 - val_loss: 0.5812 - val_accuracy: 0.7222\n",
      "Epoch 93/100\n",
      "2/2 [==============================] - 0s 28ms/step - loss: 0.6335 - accuracy: 0.7255 - val_loss: 0.5805 - val_accuracy: 0.7222\n",
      "Epoch 94/100\n",
      "2/2 [==============================] - 0s 30ms/step - loss: 0.6329 - accuracy: 0.7255 - val_loss: 0.5799 - val_accuracy: 0.7222\n",
      "Epoch 95/100\n",
      "2/2 [==============================] - 0s 28ms/step - loss: 0.6322 - accuracy: 0.7059 - val_loss: 0.5792 - val_accuracy: 0.7222\n",
      "Epoch 96/100\n",
      "2/2 [==============================] - 0s 27ms/step - loss: 0.6314 - accuracy: 0.7059 - val_loss: 0.5786 - val_accuracy: 0.7222\n",
      "Epoch 97/100\n",
      "2/2 [==============================] - 0s 28ms/step - loss: 0.6308 - accuracy: 0.7059 - val_loss: 0.5779 - val_accuracy: 0.7222\n",
      "Epoch 98/100\n",
      "2/2 [==============================] - 0s 29ms/step - loss: 0.6300 - accuracy: 0.6863 - val_loss: 0.5772 - val_accuracy: 0.7222\n",
      "Epoch 99/100\n",
      "2/2 [==============================] - 0s 27ms/step - loss: 0.6293 - accuracy: 0.6863 - val_loss: 0.5766 - val_accuracy: 0.7222\n",
      "Epoch 100/100\n",
      "2/2 [==============================] - 0s 27ms/step - loss: 0.6289 - accuracy: 0.6863 - val_loss: 0.5759 - val_accuracy: 0.7222\n"
     ]
    }
   ],
   "source": [
    "# Fitting the ANN to the Training set\n",
    "history = cnn.fit(X_train, y_train, batch_size =27, epochs = 100, validation_data=(X_test, y_test))"
   ]
  },
  {
   "cell_type": "code",
   "execution_count": 7,
   "id": "c7c80a2e",
   "metadata": {},
   "outputs": [
    {
     "data": {
      "image/png": "[encoded data removed]",
      "text/plain": [
       "<Figure size 432x288 with 1 Axes>"
      ]
     },
     "metadata": {
      "needs_background": "light"
     },
     "output_type": "display_data"
    }
   ],
   "source": [
    "# Plotting loss & accuracy\n",
    "plt.figure()\n",
    "plt.plot(history.history['loss'])\n",
    "plt.plot(history.history['val_loss'])\n",
    "plt.title('model loss')\n",
    "plt.ylabel('loss')\n",
    "plt.xlabel('epoch')\n",
    "plt.legend(['train', 'test'], loc='best')\n",
    "plt.show()"
   ]
  },
  {
   "cell_type": "code",
   "execution_count": 10,
   "id": "fe25e92a",
   "metadata": {},
   "outputs": [],
   "source": [
    "# Predicting the Test set results\n",
    "y_pred = cnn.predict(X_test)\n",
    "y_pred = (y_pred > 0.4)"
   ]
  },
  {
   "cell_type": "code",
   "execution_count": 11,
   "id": "483b611c",
   "metadata": {},
   "outputs": [
    {
     "name": "stdout",
     "output_type": "stream",
     "text": [
      "[[9 3]\n",
      " [1 5]]\n"
     ]
    }
   ],
   "source": [
    "# Making the Confusion Matrix\n",
    "from sklearn.metrics import confusion_matrix\n",
    "cm = confusion_matrix(y_test, y_pred)\n",
    "print(cm)"
   ]
  },
  {
   "cell_type": "markdown",
   "id": "c0e9aa4f",
   "metadata": {},
   "source": [
    "Итак, построена Нейронная Сеть для модели классификации. Был проведен ряд экспериментов с множеством параметров, таких как: количество слоев, число batch_size, порог отсечения.\n",
    "\n",
    "Оптимальное количество слоев - 2 \n",
    "batch_size изменялось от 8 до 60, однако оптимальным является 27. Остальные случаи уменьшают верное распознавание на 3-7 наблюдений.\n",
    "Порог отсичения - оптимальное значение при y_pred > 0.4. Этот параметр наибольшим образом влияет на правильность распознавания обьектов и при изменении на 0,1 - до 10 обьектов могут быть неверно распознаны.\n",
    "Таким образом, в данной моделе при оптимальных параметрах неверно распознано 4 обьектов, что дает немного хуже результат, чем в моделе Логистической регрессиии. Но стоит отметить, что выборка получилась сбалансированная."
   ]
  },
  {
   "cell_type": "markdown",
   "id": "5983799b",
   "metadata": {},
   "source": [
    "# Поскольку в условиях задачи было сказано, что нужно построить базовую модель и сравнить ее с НС - делаем вывод, что модель Логистической регрессии со своей задачей справилась лучше. Именно ее и рекомендовано использовать для дальнейшего исследования."
   ]
  }
 ],
 "metadata": {
  "kernelspec": {
   "display_name": "Python 3 (ipykernel)",
   "language": "python",
   "name": "python3"
  },
  "language_info": {
   "codemirror_mode": {
    "name": "ipython",
    "version": 3
   },
   "file_extension": ".py",
   "mimetype": "text/x-python",
   "name": "python",
   "nbconvert_exporter": "python",
   "pygments_lexer": "ipython3",
   "version": "3.8.12"
  }
 },
 "nbformat": 4,
 "nbformat_minor": 5
}
