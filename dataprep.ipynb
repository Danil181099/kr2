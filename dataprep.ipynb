{
 "cells": [
  {
   "cell_type": "markdown",
   "id": "f4f760e0",
   "metadata": {},
   "source": [
    "# Data Preprocessing"
   ]
  },
  {
   "cell_type": "code",
   "execution_count": 1,
   "id": "1eded515",
   "metadata": {},
   "outputs": [],
   "source": [
    "#!pip install -r requirements.txt"
   ]
  },
  {
   "cell_type": "code",
   "execution_count": 2,
   "id": "8582065e",
   "metadata": {},
   "outputs": [],
   "source": [
    "#!pip install numpy\n",
    "#!pip install matplotlib\n",
    "#!pip install pandas"
   ]
  },
  {
   "cell_type": "code",
   "execution_count": 3,
   "id": "18ba754a",
   "metadata": {},
   "outputs": [],
   "source": [
    "# Importing the libraries\n",
    "import numpy as np\n",
    "import matplotlib.pyplot as plt\n",
    "import pandas as pd"
   ]
  },
  {
   "cell_type": "code",
   "execution_count": 4,
   "id": "50d3dd8d",
   "metadata": {
    "scrolled": true
   },
   "outputs": [],
   "source": [
    "# Importing the dataset\n",
    "df = pd.read_csv('kr2.csv', sep=';')"
   ]
  },
  {
   "cell_type": "code",
   "execution_count": 5,
   "id": "c24b280f",
   "metadata": {},
   "outputs": [
    {
     "data": {
      "text/plain": [
       "(69, 15)"
      ]
     },
     "execution_count": 5,
     "metadata": {},
     "output_type": "execute_result"
    }
   ],
   "source": [
    "df.shape"
   ]
  },
  {
   "cell_type": "code",
   "execution_count": 6,
   "id": "5b5ddbf3",
   "metadata": {},
   "outputs": [
    {
     "data": {
      "text/html": [
       "<div>\n",
       "<style scoped>\n",
       "    .dataframe tbody tr th:only-of-type {\n",
       "        vertical-align: middle;\n",
       "    }\n",
       "\n",
       "    .dataframe tbody tr th {\n",
       "        vertical-align: top;\n",
       "    }\n",
       "\n",
       "    .dataframe thead th {\n",
       "        text-align: right;\n",
       "    }\n",
       "</style>\n",
       "<table border=\"1\" class=\"dataframe\">\n",
       "  <thead>\n",
       "    <tr style=\"text-align: right;\">\n",
       "      <th></th>\n",
       "      <th>RetailSpace</th>\n",
       "      <th>Floor</th>\n",
       "      <th>Number_of_employees_in_the_state</th>\n",
       "      <th>Type</th>\n",
       "      <th>NumberOfReviewInGoogle</th>\n",
       "      <th>NumberOfChecksPerMonth</th>\n",
       "      <th>The_average_number_of_units_in_the_check</th>\n",
       "      <th>human_traffic</th>\n",
       "      <th>AverageIncomeOfThePopulation</th>\n",
       "      <th>Stop_GT</th>\n",
       "      <th>Stop_GT_at_home</th>\n",
       "      <th>The_final_stop_of_the_GT</th>\n",
       "      <th>Crosswalk</th>\n",
       "      <th>Specialized_bread</th>\n",
       "      <th>Success</th>\n",
       "    </tr>\n",
       "  </thead>\n",
       "  <tbody>\n",
       "    <tr>\n",
       "      <th>0</th>\n",
       "      <td>9</td>\n",
       "      <td>1</td>\n",
       "      <td>2</td>\n",
       "      <td>Light</td>\n",
       "      <td>NaN</td>\n",
       "      <td>1230.0</td>\n",
       "      <td>1,56</td>\n",
       "      <td>5211.0</td>\n",
       "      <td>15610.0</td>\n",
       "      <td>1</td>\n",
       "      <td>1</td>\n",
       "      <td>0</td>\n",
       "      <td>0</td>\n",
       "      <td>1</td>\n",
       "      <td>unsuccessful</td>\n",
       "    </tr>\n",
       "    <tr>\n",
       "      <th>1</th>\n",
       "      <td>30</td>\n",
       "      <td>1</td>\n",
       "      <td>2</td>\n",
       "      <td>Light</td>\n",
       "      <td>8.0</td>\n",
       "      <td>2715.0</td>\n",
       "      <td>2,03</td>\n",
       "      <td>2424.0</td>\n",
       "      <td>12600.0</td>\n",
       "      <td>1</td>\n",
       "      <td>1</td>\n",
       "      <td>1</td>\n",
       "      <td>0</td>\n",
       "      <td>0</td>\n",
       "      <td>unsuccessful</td>\n",
       "    </tr>\n",
       "    <tr>\n",
       "      <th>2</th>\n",
       "      <td>15</td>\n",
       "      <td>1</td>\n",
       "      <td>2</td>\n",
       "      <td>light</td>\n",
       "      <td>NaN</td>\n",
       "      <td>878.0</td>\n",
       "      <td>1,81</td>\n",
       "      <td>3868.0</td>\n",
       "      <td>12600.0</td>\n",
       "      <td>1</td>\n",
       "      <td>1</td>\n",
       "      <td>0</td>\n",
       "      <td>1</td>\n",
       "      <td>1</td>\n",
       "      <td>unsuccessful</td>\n",
       "    </tr>\n",
       "    <tr>\n",
       "      <th>3</th>\n",
       "      <td>20</td>\n",
       "      <td>1</td>\n",
       "      <td>2</td>\n",
       "      <td>light</td>\n",
       "      <td>NaN</td>\n",
       "      <td>2346.0</td>\n",
       "      <td>2,18</td>\n",
       "      <td>4546.0</td>\n",
       "      <td>13930.0</td>\n",
       "      <td>1</td>\n",
       "      <td>1</td>\n",
       "      <td>0</td>\n",
       "      <td>0</td>\n",
       "      <td>1</td>\n",
       "      <td>unsuccessful</td>\n",
       "    </tr>\n",
       "    <tr>\n",
       "      <th>4</th>\n",
       "      <td>30</td>\n",
       "      <td>1</td>\n",
       "      <td>2</td>\n",
       "      <td>light</td>\n",
       "      <td>NaN</td>\n",
       "      <td>2542.0</td>\n",
       "      <td>1,63</td>\n",
       "      <td>3244.0</td>\n",
       "      <td>16030.0</td>\n",
       "      <td>0</td>\n",
       "      <td>0</td>\n",
       "      <td>0</td>\n",
       "      <td>0</td>\n",
       "      <td>0</td>\n",
       "      <td>unsuccessful</td>\n",
       "    </tr>\n",
       "    <tr>\n",
       "      <th>5</th>\n",
       "      <td>57,7</td>\n",
       "      <td>1</td>\n",
       "      <td>2</td>\n",
       "      <td>Light</td>\n",
       "      <td>9.0</td>\n",
       "      <td>5478.0</td>\n",
       "      <td>1,75</td>\n",
       "      <td>2560.0</td>\n",
       "      <td>12320.0</td>\n",
       "      <td>0</td>\n",
       "      <td>0</td>\n",
       "      <td>0</td>\n",
       "      <td>0</td>\n",
       "      <td>1</td>\n",
       "      <td>unsuccessful</td>\n",
       "    </tr>\n",
       "    <tr>\n",
       "      <th>6</th>\n",
       "      <td>50</td>\n",
       "      <td>1</td>\n",
       "      <td>4</td>\n",
       "      <td>Light</td>\n",
       "      <td>21.0</td>\n",
       "      <td>9115.0</td>\n",
       "      <td>2,07</td>\n",
       "      <td>1842.0</td>\n",
       "      <td>16100.0</td>\n",
       "      <td>0</td>\n",
       "      <td>0</td>\n",
       "      <td>0</td>\n",
       "      <td>1</td>\n",
       "      <td>0</td>\n",
       "      <td>successful</td>\n",
       "    </tr>\n",
       "    <tr>\n",
       "      <th>7</th>\n",
       "      <td>45</td>\n",
       "      <td>1</td>\n",
       "      <td>6</td>\n",
       "      <td>Light</td>\n",
       "      <td>325.0</td>\n",
       "      <td>14777.0</td>\n",
       "      <td>2,24</td>\n",
       "      <td>412.0</td>\n",
       "      <td>12180.0</td>\n",
       "      <td>0</td>\n",
       "      <td>0</td>\n",
       "      <td>0</td>\n",
       "      <td>0</td>\n",
       "      <td>1</td>\n",
       "      <td>successful</td>\n",
       "    </tr>\n",
       "    <tr>\n",
       "      <th>8</th>\n",
       "      <td>27</td>\n",
       "      <td>1</td>\n",
       "      <td>2</td>\n",
       "      <td>Light</td>\n",
       "      <td>NaN</td>\n",
       "      <td>2734.0</td>\n",
       "      <td>1,78</td>\n",
       "      <td>233.0</td>\n",
       "      <td>13930.0</td>\n",
       "      <td>0</td>\n",
       "      <td>0</td>\n",
       "      <td>0</td>\n",
       "      <td>0</td>\n",
       "      <td>0</td>\n",
       "      <td>unsuccessful</td>\n",
       "    </tr>\n",
       "    <tr>\n",
       "      <th>9</th>\n",
       "      <td>54,5</td>\n",
       "      <td>1</td>\n",
       "      <td>2</td>\n",
       "      <td>Light</td>\n",
       "      <td>17.0</td>\n",
       "      <td>6322.0</td>\n",
       "      <td>1,76</td>\n",
       "      <td>978.0</td>\n",
       "      <td>14560.0</td>\n",
       "      <td>0</td>\n",
       "      <td>0</td>\n",
       "      <td>0</td>\n",
       "      <td>1</td>\n",
       "      <td>0</td>\n",
       "      <td>unsuccessful</td>\n",
       "    </tr>\n",
       "    <tr>\n",
       "      <th>10</th>\n",
       "      <td>15</td>\n",
       "      <td>1</td>\n",
       "      <td>2</td>\n",
       "      <td>Standart</td>\n",
       "      <td>4.0</td>\n",
       "      <td>5968.0</td>\n",
       "      <td>1,47</td>\n",
       "      <td>5561.0</td>\n",
       "      <td>12460.0</td>\n",
       "      <td>0</td>\n",
       "      <td>0</td>\n",
       "      <td>0</td>\n",
       "      <td>0</td>\n",
       "      <td>0</td>\n",
       "      <td>unsuccessful</td>\n",
       "    </tr>\n",
       "    <tr>\n",
       "      <th>11</th>\n",
       "      <td>27,09</td>\n",
       "      <td>1</td>\n",
       "      <td>5</td>\n",
       "      <td>Standart</td>\n",
       "      <td>5.0</td>\n",
       "      <td>13182.0</td>\n",
       "      <td>2,18</td>\n",
       "      <td>711.0</td>\n",
       "      <td>11200.0</td>\n",
       "      <td>1</td>\n",
       "      <td>0</td>\n",
       "      <td>0</td>\n",
       "      <td>1</td>\n",
       "      <td>0</td>\n",
       "      <td>successful</td>\n",
       "    </tr>\n",
       "    <tr>\n",
       "      <th>12</th>\n",
       "      <td>56,65</td>\n",
       "      <td>1</td>\n",
       "      <td>4</td>\n",
       "      <td>Standart</td>\n",
       "      <td>NaN</td>\n",
       "      <td>6539.0</td>\n",
       "      <td>2,01</td>\n",
       "      <td>420.0</td>\n",
       "      <td>9030.0</td>\n",
       "      <td>1</td>\n",
       "      <td>0</td>\n",
       "      <td>0</td>\n",
       "      <td>1</td>\n",
       "      <td>0</td>\n",
       "      <td>unsuccessful</td>\n",
       "    </tr>\n",
       "    <tr>\n",
       "      <th>13</th>\n",
       "      <td>80</td>\n",
       "      <td>1</td>\n",
       "      <td>8</td>\n",
       "      <td>Standart</td>\n",
       "      <td>7.0</td>\n",
       "      <td>7944.0</td>\n",
       "      <td>1,99</td>\n",
       "      <td>8633.0</td>\n",
       "      <td>14770.0</td>\n",
       "      <td>1</td>\n",
       "      <td>0</td>\n",
       "      <td>0</td>\n",
       "      <td>1</td>\n",
       "      <td>0</td>\n",
       "      <td>successful</td>\n",
       "    </tr>\n",
       "    <tr>\n",
       "      <th>14</th>\n",
       "      <td>232,3</td>\n",
       "      <td>1</td>\n",
       "      <td>6</td>\n",
       "      <td>Standart</td>\n",
       "      <td>34.0</td>\n",
       "      <td>11747.0</td>\n",
       "      <td>2,08</td>\n",
       "      <td>4004.0</td>\n",
       "      <td>12180.0</td>\n",
       "      <td>0</td>\n",
       "      <td>0</td>\n",
       "      <td>0</td>\n",
       "      <td>1</td>\n",
       "      <td>0</td>\n",
       "      <td>successful</td>\n",
       "    </tr>\n",
       "  </tbody>\n",
       "</table>\n",
       "</div>"
      ],
      "text/plain": [
       "   RetailSpace  Floor  Number_of_employees_in_the_state      Type  \\\n",
       "0            9      1                                 2     Light   \n",
       "1           30      1                                 2     Light   \n",
       "2           15      1                                 2     light   \n",
       "3           20      1                                 2     light   \n",
       "4           30      1                                 2     light   \n",
       "5         57,7      1                                 2     Light   \n",
       "6           50      1                                 4     Light   \n",
       "7           45      1                                 6     Light   \n",
       "8           27      1                                 2     Light   \n",
       "9         54,5      1                                 2     Light   \n",
       "10          15      1                                 2  Standart   \n",
       "11       27,09      1                                 5  Standart   \n",
       "12       56,65      1                                 4  Standart   \n",
       "13          80      1                                 8  Standart   \n",
       "14       232,3      1                                 6  Standart   \n",
       "\n",
       "    NumberOfReviewInGoogle  NumberOfChecksPerMonth  \\\n",
       "0                      NaN                  1230.0   \n",
       "1                      8.0                  2715.0   \n",
       "2                      NaN                   878.0   \n",
       "3                      NaN                  2346.0   \n",
       "4                      NaN                  2542.0   \n",
       "5                      9.0                  5478.0   \n",
       "6                     21.0                  9115.0   \n",
       "7                    325.0                 14777.0   \n",
       "8                      NaN                  2734.0   \n",
       "9                     17.0                  6322.0   \n",
       "10                     4.0                  5968.0   \n",
       "11                     5.0                 13182.0   \n",
       "12                     NaN                  6539.0   \n",
       "13                     7.0                  7944.0   \n",
       "14                    34.0                 11747.0   \n",
       "\n",
       "   The_average_number_of_units_in_the_check  human_traffic  \\\n",
       "0                                      1,56         5211.0   \n",
       "1                                      2,03         2424.0   \n",
       "2                                      1,81         3868.0   \n",
       "3                                      2,18         4546.0   \n",
       "4                                      1,63         3244.0   \n",
       "5                                      1,75         2560.0   \n",
       "6                                      2,07         1842.0   \n",
       "7                                      2,24          412.0   \n",
       "8                                      1,78          233.0   \n",
       "9                                      1,76          978.0   \n",
       "10                                     1,47         5561.0   \n",
       "11                                     2,18          711.0   \n",
       "12                                     2,01          420.0   \n",
       "13                                     1,99         8633.0   \n",
       "14                                     2,08         4004.0   \n",
       "\n",
       "    AverageIncomeOfThePopulation  Stop_GT  Stop_GT_at_home  \\\n",
       "0                        15610.0        1                1   \n",
       "1                        12600.0        1                1   \n",
       "2                        12600.0        1                1   \n",
       "3                        13930.0        1                1   \n",
       "4                        16030.0        0                0   \n",
       "5                        12320.0        0                0   \n",
       "6                        16100.0        0                0   \n",
       "7                        12180.0        0                0   \n",
       "8                        13930.0        0                0   \n",
       "9                        14560.0        0                0   \n",
       "10                       12460.0        0                0   \n",
       "11                       11200.0        1                0   \n",
       "12                        9030.0        1                0   \n",
       "13                       14770.0        1                0   \n",
       "14                       12180.0        0                0   \n",
       "\n",
       "    The_final_stop_of_the_GT  Crosswalk  Specialized_bread       Success  \n",
       "0                          0          0                  1  unsuccessful  \n",
       "1                          1          0                  0  unsuccessful  \n",
       "2                          0          1                  1  unsuccessful  \n",
       "3                          0          0                  1  unsuccessful  \n",
       "4                          0          0                  0  unsuccessful  \n",
       "5                          0          0                  1  unsuccessful  \n",
       "6                          0          1                  0    successful  \n",
       "7                          0          0                  1    successful  \n",
       "8                          0          0                  0  unsuccessful  \n",
       "9                          0          1                  0  unsuccessful  \n",
       "10                         0          0                  0  unsuccessful  \n",
       "11                         0          1                  0    successful  \n",
       "12                         0          1                  0  unsuccessful  \n",
       "13                         0          1                  0    successful  \n",
       "14                         0          1                  0    successful  "
      ]
     },
     "execution_count": 6,
     "metadata": {},
     "output_type": "execute_result"
    }
   ],
   "source": [
    "df.head (15)"
   ]
  },
  {
   "cell_type": "markdown",
   "id": "53761485",
   "metadata": {},
   "source": [
    "Загрузили датасет. Он содержит в себе набор метрик, которые дают информацию об успешности торговой точки. Чтобы более детально разобраться с данными и выбрать соответсвующую задачу для анализу - разберем подробно каждую переменную. В целом, присутствует 15 разных переменных и 69 наблюдений по ним."
   ]
  },
  {
   "cell_type": "code",
   "execution_count": 7,
   "id": "3a634f95",
   "metadata": {},
   "outputs": [
    {
     "name": "stdout",
     "output_type": "stream",
     "text": [
      "<class 'pandas.core.frame.DataFrame'>\n",
      "RangeIndex: 69 entries, 0 to 68\n",
      "Data columns (total 15 columns):\n",
      " #   Column                                    Non-Null Count  Dtype  \n",
      "---  ------                                    --------------  -----  \n",
      " 0   RetailSpace                               69 non-null     object \n",
      " 1   Floor                                     69 non-null     int64  \n",
      " 2   Number_of_employees_in_the_state          69 non-null     int64  \n",
      " 3   Type                                      69 non-null     object \n",
      " 4   NumberOfReviewInGoogle                    39 non-null     float64\n",
      " 5   NumberOfChecksPerMonth                    62 non-null     float64\n",
      " 6   The_average_number_of_units_in_the_check  62 non-null     object \n",
      " 7   human_traffic                             64 non-null     float64\n",
      " 8   AverageIncomeOfThePopulation              64 non-null     float64\n",
      " 9   Stop_GT                                   69 non-null     int64  \n",
      " 10  Stop_GT_at_home                           69 non-null     int64  \n",
      " 11  The_final_stop_of_the_GT                  69 non-null     int64  \n",
      " 12  Crosswalk                                 69 non-null     int64  \n",
      " 13  Specialized_bread                         69 non-null     int64  \n",
      " 14  Success                                   69 non-null     object \n",
      "dtypes: float64(4), int64(7), object(4)\n",
      "memory usage: 8.2+ KB\n"
     ]
    }
   ],
   "source": [
    "df.info()"
   ]
  },
  {
   "cell_type": "markdown",
   "id": "168870aa",
   "metadata": {},
   "source": [
    "Поскольку переменные сильно не отличаются от предыдущей работы - будем отталкиваться от тех рассуждений, что были получены ранее.\n",
    "\n",
    "\n",
    "1. Floor - этаж. По статистике, магазины, которые располагаются выше 1-2 этажа имеют меньшую посещаемость (если, конечно, нет лифта в помещении), чем магазины первой категории (банально, люди пожилого возраста не захотят так высоко подниматься)\n",
    "2. Type - тип. Тип магазина зависит от глобальности покупок (в большинстве случая). Если это какой-то миннимаркет, то человек будет приобретать товары первой необходимости, а соответсвенно в супермаркетах делаются глобальные закупки.\n",
    "3. Retail space - площадь. Соответственно, как и тип магазина работает параметр площади. В большем магазине будут делаться более глобальные закупки.\n",
    "4. Number of employees in the state - количество сотрудников в штате. Магазин, который имеет достаточное количество сотрудников вызывает большу привлекательность. Человеку не придется ждать консультации, кассы не будут простаиваться из-за недостатка кассиров и т.д.\n",
    "5. Number of reviews in Google - количество отзывов в гугле. В эпоху цифровых технологий отзывы в интернете играют большую роль. Соответственно хорошая репутация привлекает большее число посетителей.\n",
    "6. Number of checks per month - Количество чеков в месяц. Чем больше посетителей, тем больше чеков (а значит и больше популярность магазина).\n",
    "7. The average number of units in the check - среднее количество единиц в чеке. Чем больше единиц в чеке, тем больше популярность магазина (человек доверяет этому магазину и делает глобальнее покупки).\n",
    "8. Human traffic - поток людей. Логично предположить, что чем популярнее и успешнее магазин, тем больший поток людей он содержит\n",
    "9. Average income of the population  - средний доход населения. Логично, что чем выше доход, тем выше возможность у людей что-либо покупать и тратить больше денег в магазине.\n",
    "10. Stop GT - остановка городского транспорта. Если у магазина есть остановка, то туда проще добраться и соответсвенно больше поток людей и больший шанс успешности магазина.\n",
    "11. Stop GT at home - остановка домой. Если у человека будет возможность уехать с этого магазина домой, то больший шанс, что он выберет именно этот магазин.\n",
    "12. The final stop of the GT - конечная остановка ГТ. По статистике конечная остановка транспорта находится где-то на окраине города. Соответственно поток людей там будет меньше. Например, в Харькове возьмем условный \"Metro\" в районе аэропорта или \"Класс\" на Клочковской в самом центре. Естественно поток людей во втором магазине будет выше и жто может указывать на большую успешность магазина.Но с другой стороны, Metro - магазин оптовых закупок, где будут делаться явно глобальные закупки и средний чек будет выше других магазинов также не будет уступать по успешности.\n",
    "13. Crosswalk - пешеходный переход. Показатель, который от части делает магазин доступнее. Соответсвенно наличие показателя может содействовать успешности магазина.\n",
    "14. Specialized bread - специализированный хлеб. Актуальным является пример, который был приведен в прошлой работе. \"Изюминка\" магазина делает его более конкурентным и оставляет за собой постоянных покупателей. Опять же-таки на примере \"Класса\". Выпечка, которая прям с духовки и собственно приготовления ни раз заставила вернуться меня в данный магазин. А соответственно данный показатель может повлиять на успешность магазина.\n",
    "15. Success - непосредственно показатель успешности магазина. Исходя из всех вышеуказанных метрик можно сделать вывод об уровне данного показателя. "
   ]
  },
  {
   "cell_type": "markdown",
   "id": "2af6a1b2",
   "metadata": {},
   "source": [
    "# Цель работы"
   ]
  },
  {
   "cell_type": "markdown",
   "id": "382e2392",
   "metadata": {},
   "source": [
    "Перед нами стоит 2 задачи: построить модель классификации и кластеризации.\n",
    "   \n",
    "   1. Классификация\n",
    "    \n",
    "    Бинарная переменная Success отлично подходит для данной задачи. Исходя из множества метрик нужно построить модель, которая сможет определять уровень успешности магазина.\n",
    "    Зачем это нужно? \n",
    "   \n",
    "\n",
    "-Понять в правильном ли месте расположен магазин, сможет ли поток людей обеспечить необходимый уровень прибыли\n",
    "\n",
    "-Если Вы только планируете открыть магазин, то измеряя данные метрики, вы сможете подобрать наиболее подходящее место.\n",
    "\n",
    "-Зная эти данные, Вы можете увеличить эффективность своего бизнеса.\n",
    "-Замер трафика людей и среднее число товаров чеке (допустим) позволяет также оценить деятельность конкурентов. \n",
    "\n",
    "Вы будете знать, сколько и в какое время людей посещают магазины-конкуренты. Эта информация также поможет Вам разработать ряд маркетинговых мероприятий для привлечения дополнительного потока людей.\n",
    "\n",
    "Вы должны знать своего покупателя: его уровень дохода, привычки, мотивы покупки. Иначе все ваши маркетинговые кампании могут пролетать мимо целевой аудитории.\n",
    "\n",
    "   2. Кластеризация\n",
    "   \n",
    "    Распределение магазинов на несколько кластеров по их уровню успешности \n",
    "    Сразу в голову приходит несколько возможных применений данной модели.\n",
    "    1. Со стороны потребителя. Исходя из данных метрик можно примерно понять к какой категории относится магазин и стоит ли там вообще делать покупки. Но вряд ли это будет широко распространено среди населения, в отличии от второго примера.\n",
    "    2. Мы имеем ряд данных по определенному району города об имеющихся магазинах. Исходя из этого, допустим, что большинство магазинов на данной территории относятся к классу \"неуспешный\". Логично, что в этой местности можно открывать магазин и побороться за лидерство, нежели начинать строительство в другом месте, где существует ряд \"Успешных\" магазинов."
   ]
  },
  {
   "cell_type": "markdown",
   "id": "ee23de21",
   "metadata": {},
   "source": [
    "# Visualization"
   ]
  },
  {
   "cell_type": "markdown",
   "id": "3477e4e5",
   "metadata": {},
   "source": [
    "Для каждой количественной переменной построим диаграммы.Визуализация данных покажет их распределения и можно будет сделать первичный вывод о наличии/отсутвии выбросов в переменной. Поскольку количество предикторов не велико - можно вывести диаграмму для каждого отдельно."
   ]
  },
  {
   "cell_type": "code",
   "execution_count": 8,
   "id": "0850387f",
   "metadata": {},
   "outputs": [
    {
     "data": {
      "text/plain": [
       "<AxesSubplot:ylabel='Frequency'>"
      ]
     },
     "execution_count": 8,
     "metadata": {},
     "output_type": "execute_result"
    },
    {
     "data": {
      "image/png": "[encoded data removed]",
      "text/plain": [
       "<Figure size 432x288 with 1 Axes>"
      ]
     },
     "metadata": {
      "needs_background": "light"
     },
     "output_type": "display_data"
    }
   ],
   "source": [
    "# Feature distribution\n",
    "df['Floor'].plot(kind = 'hist') "
   ]
  },
  {
   "cell_type": "markdown",
   "id": "c1432bdb",
   "metadata": {},
   "source": [
    "Переменная оказалась не вариативная, все магазины распологаются на 1-ом этаже. Следовательно она не несет нужной информации для дальнейшей работы и ее следует удалить с датасета."
   ]
  },
  {
   "cell_type": "code",
   "execution_count": 9,
   "id": "50176b15",
   "metadata": {},
   "outputs": [
    {
     "data": {
      "text/plain": [
       "<AxesSubplot:ylabel='Frequency'>"
      ]
     },
     "execution_count": 9,
     "metadata": {},
     "output_type": "execute_result"
    },
    {
     "data": {
      "image/png": "[encoded data removed]",
      "text/plain": [
       "<Figure size 432x288 with 1 Axes>"
      ]
     },
     "metadata": {
      "needs_background": "light"
     },
     "output_type": "display_data"
    }
   ],
   "source": [
    "# Feature distribution\n",
    "df['Number_of_employees_in_the_state'].plot(kind = 'hist')"
   ]
  },
  {
   "cell_type": "code",
   "execution_count": 10,
   "id": "7c36efed",
   "metadata": {},
   "outputs": [
    {
     "data": {
      "text/plain": [
       "<AxesSubplot:ylabel='Frequency'>"
      ]
     },
     "execution_count": 10,
     "metadata": {},
     "output_type": "execute_result"
    },
    {
     "data": {
      "image/png": "[encoded data removed]",
      "text/plain": [
       "<Figure size 432x288 with 1 Axes>"
      ]
     },
     "metadata": {
      "needs_background": "light"
     },
     "output_type": "display_data"
    }
   ],
   "source": [
    "# Feature distribution\n",
    "df['NumberOfReviewInGoogle'].plot(kind = 'hist')"
   ]
  },
  {
   "cell_type": "markdown",
   "id": "15f77fca",
   "metadata": {},
   "source": [
    "Видим, что есть хвост, который похож на выброс"
   ]
  },
  {
   "cell_type": "code",
   "execution_count": 11,
   "id": "567d9087",
   "metadata": {},
   "outputs": [
    {
     "data": {
      "text/plain": [
       "<AxesSubplot:ylabel='Frequency'>"
      ]
     },
     "execution_count": 11,
     "metadata": {},
     "output_type": "execute_result"
    },
    {
     "data": {
      "image/png": "[encoded data removed]",
      "text/plain": [
       "<Figure size 432x288 with 1 Axes>"
      ]
     },
     "metadata": {
      "needs_background": "light"
     },
     "output_type": "display_data"
    }
   ],
   "source": [
    "# Feature distribution\n",
    "df['human_traffic'].plot(kind = 'hist')"
   ]
  },
  {
   "cell_type": "markdown",
   "id": "295880dd",
   "metadata": {},
   "source": [
    "Сразу видно, что переменная распределена не по нормальному закону. Наблюдается небольшой хвост. Следует в дальнейшем проверить ее на выбросы."
   ]
  },
  {
   "cell_type": "code",
   "execution_count": 12,
   "id": "832e3ffb",
   "metadata": {},
   "outputs": [
    {
     "data": {
      "text/plain": [
       "<AxesSubplot:ylabel='Frequency'>"
      ]
     },
     "execution_count": 12,
     "metadata": {},
     "output_type": "execute_result"
    },
    {
     "data": {
      "image/png": "[encoded data removed]",
      "text/plain": [
       "<Figure size 432x288 with 1 Axes>"
      ]
     },
     "metadata": {
      "needs_background": "light"
     },
     "output_type": "display_data"
    }
   ],
   "source": [
    "# Feature distribution\n",
    "df['NumberOfChecksPerMonth'].plot(kind = 'hist')"
   ]
  },
  {
   "cell_type": "code",
   "execution_count": 13,
   "id": "704e6214",
   "metadata": {},
   "outputs": [
    {
     "data": {
      "text/plain": [
       "<AxesSubplot:ylabel='Frequency'>"
      ]
     },
     "execution_count": 13,
     "metadata": {},
     "output_type": "execute_result"
    },
    {
     "data": {
      "image/png": "[encoded data removed]",
      "text/plain": [
       "<Figure size 432x288 with 1 Axes>"
      ]
     },
     "metadata": {
      "needs_background": "light"
     },
     "output_type": "display_data"
    }
   ],
   "source": [
    "# Feature distribution\n",
    "df['AverageIncomeOfThePopulation'].plot(kind = 'hist')"
   ]
  },
  {
   "cell_type": "markdown",
   "id": "bf86084a",
   "metadata": {},
   "source": [
    "Явно есть выбросы, на которые стоить обратить внимание"
   ]
  },
  {
   "cell_type": "markdown",
   "id": "fabac4c8",
   "metadata": {},
   "source": [
    "# STATISTICS"
   ]
  },
  {
   "cell_type": "code",
   "execution_count": 14,
   "id": "ae708164",
   "metadata": {},
   "outputs": [
    {
     "data": {
      "text/html": [
       "<div>\n",
       "<style scoped>\n",
       "    .dataframe tbody tr th:only-of-type {\n",
       "        vertical-align: middle;\n",
       "    }\n",
       "\n",
       "    .dataframe tbody tr th {\n",
       "        vertical-align: top;\n",
       "    }\n",
       "\n",
       "    .dataframe thead th {\n",
       "        text-align: right;\n",
       "    }\n",
       "</style>\n",
       "<table border=\"1\" class=\"dataframe\">\n",
       "  <thead>\n",
       "    <tr style=\"text-align: right;\">\n",
       "      <th></th>\n",
       "      <th>Floor</th>\n",
       "      <th>Number_of_employees_in_the_state</th>\n",
       "      <th>NumberOfReviewInGoogle</th>\n",
       "      <th>NumberOfChecksPerMonth</th>\n",
       "      <th>human_traffic</th>\n",
       "      <th>AverageIncomeOfThePopulation</th>\n",
       "      <th>Stop_GT</th>\n",
       "      <th>Stop_GT_at_home</th>\n",
       "      <th>The_final_stop_of_the_GT</th>\n",
       "      <th>Crosswalk</th>\n",
       "      <th>Specialized_bread</th>\n",
       "    </tr>\n",
       "  </thead>\n",
       "  <tbody>\n",
       "    <tr>\n",
       "      <th>count</th>\n",
       "      <td>69.0</td>\n",
       "      <td>69.000000</td>\n",
       "      <td>39.000000</td>\n",
       "      <td>62.000000</td>\n",
       "      <td>64.000000</td>\n",
       "      <td>64.000000</td>\n",
       "      <td>69.000000</td>\n",
       "      <td>69.000000</td>\n",
       "      <td>69.000000</td>\n",
       "      <td>69.000000</td>\n",
       "      <td>69.000000</td>\n",
       "    </tr>\n",
       "    <tr>\n",
       "      <th>mean</th>\n",
       "      <td>1.0</td>\n",
       "      <td>3.652174</td>\n",
       "      <td>42.820513</td>\n",
       "      <td>7097.209677</td>\n",
       "      <td>2755.765625</td>\n",
       "      <td>11990.421875</td>\n",
       "      <td>0.362319</td>\n",
       "      <td>0.275362</td>\n",
       "      <td>0.086957</td>\n",
       "      <td>0.333333</td>\n",
       "      <td>0.318841</td>\n",
       "    </tr>\n",
       "    <tr>\n",
       "      <th>std</th>\n",
       "      <td>0.0</td>\n",
       "      <td>1.607209</td>\n",
       "      <td>81.975565</td>\n",
       "      <td>4275.181297</td>\n",
       "      <td>2058.993750</td>\n",
       "      <td>2570.309158</td>\n",
       "      <td>0.484192</td>\n",
       "      <td>0.449969</td>\n",
       "      <td>0.283836</td>\n",
       "      <td>0.474858</td>\n",
       "      <td>0.469441</td>\n",
       "    </tr>\n",
       "    <tr>\n",
       "      <th>min</th>\n",
       "      <td>1.0</td>\n",
       "      <td>2.000000</td>\n",
       "      <td>1.000000</td>\n",
       "      <td>878.000000</td>\n",
       "      <td>233.000000</td>\n",
       "      <td>0.000000</td>\n",
       "      <td>0.000000</td>\n",
       "      <td>0.000000</td>\n",
       "      <td>0.000000</td>\n",
       "      <td>0.000000</td>\n",
       "      <td>0.000000</td>\n",
       "    </tr>\n",
       "    <tr>\n",
       "      <th>25%</th>\n",
       "      <td>1.0</td>\n",
       "      <td>2.000000</td>\n",
       "      <td>5.000000</td>\n",
       "      <td>3661.000000</td>\n",
       "      <td>1148.500000</td>\n",
       "      <td>10850.000000</td>\n",
       "      <td>0.000000</td>\n",
       "      <td>0.000000</td>\n",
       "      <td>0.000000</td>\n",
       "      <td>0.000000</td>\n",
       "      <td>0.000000</td>\n",
       "    </tr>\n",
       "    <tr>\n",
       "      <th>50%</th>\n",
       "      <td>1.0</td>\n",
       "      <td>4.000000</td>\n",
       "      <td>12.000000</td>\n",
       "      <td>6430.500000</td>\n",
       "      <td>2208.000000</td>\n",
       "      <td>12250.000000</td>\n",
       "      <td>0.000000</td>\n",
       "      <td>0.000000</td>\n",
       "      <td>0.000000</td>\n",
       "      <td>0.000000</td>\n",
       "      <td>0.000000</td>\n",
       "    </tr>\n",
       "    <tr>\n",
       "      <th>75%</th>\n",
       "      <td>1.0</td>\n",
       "      <td>4.000000</td>\n",
       "      <td>33.000000</td>\n",
       "      <td>9070.750000</td>\n",
       "      <td>3998.750000</td>\n",
       "      <td>13492.500000</td>\n",
       "      <td>1.000000</td>\n",
       "      <td>1.000000</td>\n",
       "      <td>0.000000</td>\n",
       "      <td>1.000000</td>\n",
       "      <td>1.000000</td>\n",
       "    </tr>\n",
       "    <tr>\n",
       "      <th>max</th>\n",
       "      <td>1.0</td>\n",
       "      <td>8.000000</td>\n",
       "      <td>367.000000</td>\n",
       "      <td>17537.000000</td>\n",
       "      <td>10016.000000</td>\n",
       "      <td>16100.000000</td>\n",
       "      <td>1.000000</td>\n",
       "      <td>1.000000</td>\n",
       "      <td>1.000000</td>\n",
       "      <td>1.000000</td>\n",
       "      <td>1.000000</td>\n",
       "    </tr>\n",
       "  </tbody>\n",
       "</table>\n",
       "</div>"
      ],
      "text/plain": [
       "       Floor  Number_of_employees_in_the_state  NumberOfReviewInGoogle  \\\n",
       "count   69.0                         69.000000               39.000000   \n",
       "mean     1.0                          3.652174               42.820513   \n",
       "std      0.0                          1.607209               81.975565   \n",
       "min      1.0                          2.000000                1.000000   \n",
       "25%      1.0                          2.000000                5.000000   \n",
       "50%      1.0                          4.000000               12.000000   \n",
       "75%      1.0                          4.000000               33.000000   \n",
       "max      1.0                          8.000000              367.000000   \n",
       "\n",
       "       NumberOfChecksPerMonth  human_traffic  AverageIncomeOfThePopulation  \\\n",
       "count               62.000000      64.000000                     64.000000   \n",
       "mean              7097.209677    2755.765625                  11990.421875   \n",
       "std               4275.181297    2058.993750                   2570.309158   \n",
       "min                878.000000     233.000000                      0.000000   \n",
       "25%               3661.000000    1148.500000                  10850.000000   \n",
       "50%               6430.500000    2208.000000                  12250.000000   \n",
       "75%               9070.750000    3998.750000                  13492.500000   \n",
       "max              17537.000000   10016.000000                  16100.000000   \n",
       "\n",
       "         Stop_GT  Stop_GT_at_home  The_final_stop_of_the_GT  Crosswalk  \\\n",
       "count  69.000000        69.000000                 69.000000  69.000000   \n",
       "mean    0.362319         0.275362                  0.086957   0.333333   \n",
       "std     0.484192         0.449969                  0.283836   0.474858   \n",
       "min     0.000000         0.000000                  0.000000   0.000000   \n",
       "25%     0.000000         0.000000                  0.000000   0.000000   \n",
       "50%     0.000000         0.000000                  0.000000   0.000000   \n",
       "75%     1.000000         1.000000                  0.000000   1.000000   \n",
       "max     1.000000         1.000000                  1.000000   1.000000   \n",
       "\n",
       "       Specialized_bread  \n",
       "count          69.000000  \n",
       "mean            0.318841  \n",
       "std             0.469441  \n",
       "min             0.000000  \n",
       "25%             0.000000  \n",
       "50%             0.000000  \n",
       "75%             1.000000  \n",
       "max             1.000000  "
      ]
     },
     "execution_count": 14,
     "metadata": {},
     "output_type": "execute_result"
    }
   ],
   "source": [
    "# Dataset Statistics\n",
    "df.describe()"
   ]
  },
  {
   "cell_type": "markdown",
   "id": "4db741e0",
   "metadata": {},
   "source": [
    "Описательная статистика выводит только количественные переменные. Соответсвенно в модели их 11. Переменная Human_traffic, Number of reviews in Google, Average income of the population имеет пропуски. А так же есть переменные, которые содержит значения, выходящие за 3 сигма."
   ]
  },
  {
   "cell_type": "markdown",
   "id": "cc3e3daa",
   "metadata": {},
   "source": [
    "# Missing data"
   ]
  },
  {
   "cell_type": "code",
   "execution_count": 15,
   "id": "07a08601",
   "metadata": {},
   "outputs": [
    {
     "data": {
      "text/plain": [
       "RetailSpace                                  0\n",
       "Floor                                        0\n",
       "Number_of_employees_in_the_state             0\n",
       "Type                                         0\n",
       "NumberOfReviewInGoogle                      30\n",
       "NumberOfChecksPerMonth                       7\n",
       "The_average_number_of_units_in_the_check     7\n",
       "human_traffic                                5\n",
       "AverageIncomeOfThePopulation                 5\n",
       "Stop_GT                                      0\n",
       "Stop_GT_at_home                              0\n",
       "The_final_stop_of_the_GT                     0\n",
       "Crosswalk                                    0\n",
       "Specialized_bread                            0\n",
       "Success                                      0\n",
       "dtype: int64"
      ]
     },
     "execution_count": 15,
     "metadata": {},
     "output_type": "execute_result"
    }
   ],
   "source": [
    "# Cheking Missing data\n",
    "df.isnull().sum()"
   ]
  },
  {
   "cell_type": "markdown",
   "id": "6d4897b5",
   "metadata": {},
   "source": [
    "Как видим, 5 переменных содержат пропуски. Далее следует их заполнить"
   ]
  },
  {
   "cell_type": "code",
   "execution_count": 16,
   "id": "b345a98c",
   "metadata": {},
   "outputs": [],
   "source": [
    "#!pip install sklearn"
   ]
  },
  {
   "cell_type": "code",
   "execution_count": 17,
   "id": "e91f1f9b",
   "metadata": {},
   "outputs": [],
   "source": [
    "# Taking care of missing data\n",
    "dfm = df\n",
    "\n",
    "from sklearn.impute import SimpleImputer\n",
    "#numeric\n",
    "'''SimpleImputer - класс\n",
    "imputer_mean - экземпляр\n",
    "fit - метод класса'''\n",
    "\n",
    "\n",
    "imputer_freq = SimpleImputer(missing_values=np.nan, strategy='mean')\n",
    "dfm[['human_traffic']] = imputer_freq.fit_transform(dfm[['human_traffic']])\n",
    "\n",
    "imputer_freq = SimpleImputer(missing_values=np.nan, strategy='mean')\n",
    "dfm[['NumberOfReviewInGoogle']] = imputer_freq.fit_transform(dfm[['NumberOfReviewInGoogle']])\n",
    "\n",
    "imputer_freq = SimpleImputer(missing_values=np.nan, strategy='mean')\n",
    "dfm[['AverageIncomeOfThePopulation']] = imputer_freq.fit_transform(dfm[['AverageIncomeOfThePopulation']])\n",
    "\n",
    "imputer_freq = SimpleImputer(missing_values=np.nan, strategy='mean')\n",
    "dfm[['NumberOfChecksPerMonth']] = imputer_freq.fit_transform(dfm[['NumberOfChecksPerMonth']])\n",
    "\n",
    "imputer_freq = SimpleImputer(missing_values=np.nan, strategy='most_frequent')\n",
    "dfm[['The_average_number_of_units_in_the_check']] = imputer_freq.fit_transform(dfm[['The_average_number_of_units_in_the_check']])"
   ]
  },
  {
   "cell_type": "code",
   "execution_count": 18,
   "id": "cf63ff94",
   "metadata": {},
   "outputs": [
    {
     "data": {
      "text/plain": [
       "RetailSpace                                 0\n",
       "Floor                                       0\n",
       "Number_of_employees_in_the_state            0\n",
       "Type                                        0\n",
       "NumberOfReviewInGoogle                      0\n",
       "NumberOfChecksPerMonth                      0\n",
       "The_average_number_of_units_in_the_check    0\n",
       "human_traffic                               0\n",
       "AverageIncomeOfThePopulation                0\n",
       "Stop_GT                                     0\n",
       "Stop_GT_at_home                             0\n",
       "The_final_stop_of_the_GT                    0\n",
       "Crosswalk                                   0\n",
       "Specialized_bread                           0\n",
       "Success                                     0\n",
       "dtype: int64"
      ]
     },
     "execution_count": 18,
     "metadata": {},
     "output_type": "execute_result"
    }
   ],
   "source": [
    "# Cheking Missing data\n",
    "\n",
    "dfm.isnull().sum()"
   ]
  },
  {
   "cell_type": "markdown",
   "id": "eb38582a",
   "metadata": {},
   "source": [
    "Итак, переменные больше не содержат пропуски."
   ]
  },
  {
   "cell_type": "markdown",
   "id": "beeb6985",
   "metadata": {},
   "source": [
    "# Outliers"
   ]
  },
  {
   "cell_type": "code",
   "execution_count": 19,
   "id": "46fcf8f5",
   "metadata": {},
   "outputs": [],
   "source": [
    "# Outliers\n",
    "human_traffic = []\n",
    "for hf in dfm['human_traffic']:\n",
    "    if hf > round(dfm['human_traffic'].mean() + 3*dfm['human_traffic'].std()):\n",
    "        hf = round(dfm['human_traffic'].mean() + 3*dfm['human_traffic'].std()) \n",
    "    human_traffic.append(hf)\n",
    "dfm['human_traffic'] = human_traffic"
   ]
  },
  {
   "cell_type": "code",
   "execution_count": 20,
   "id": "2e5a42c0",
   "metadata": {},
   "outputs": [
    {
     "data": {
      "text/plain": [
       "count      69.000000\n",
       "mean     2736.707654\n",
       "std      1916.244139\n",
       "min       233.000000\n",
       "25%      1296.000000\n",
       "50%      2269.000000\n",
       "75%      3880.000000\n",
       "max      8701.000000\n",
       "Name: human_traffic, dtype: float64"
      ]
     },
     "execution_count": 20,
     "metadata": {},
     "output_type": "execute_result"
    }
   ],
   "source": [
    "dfm['human_traffic'].describe()"
   ]
  },
  {
   "cell_type": "code",
   "execution_count": 21,
   "id": "4799894d",
   "metadata": {},
   "outputs": [],
   "source": [
    "# Outliers\n",
    "NumberOfReviewInGoogle = []\n",
    "for num in dfm['NumberOfReviewInGoogle']:\n",
    "    if num > round(dfm['NumberOfReviewInGoogle'].mean() + 3*dfm['NumberOfReviewInGoogle'].std()):\n",
    "        num = round(dfm['NumberOfReviewInGoogle'].mean() + 3*dfm['NumberOfReviewInGoogle'].std()) \n",
    "    NumberOfReviewInGoogle.append(num)\n",
    "dfm['NumberOfReviewInGoogle'] = NumberOfReviewInGoogle"
   ]
  },
  {
   "cell_type": "code",
   "execution_count": 22,
   "id": "0ddf93e9",
   "metadata": {},
   "outputs": [
    {
     "data": {
      "text/plain": [
       "count     69.000000\n",
       "mean      39.371237\n",
       "std       44.994343\n",
       "min        1.000000\n",
       "25%       12.000000\n",
       "50%       42.820513\n",
       "75%       42.820513\n",
       "max      227.000000\n",
       "Name: NumberOfReviewInGoogle, dtype: float64"
      ]
     },
     "execution_count": 22,
     "metadata": {},
     "output_type": "execute_result"
    }
   ],
   "source": [
    "dfm['NumberOfReviewInGoogle'].describe()\n"
   ]
  },
  {
   "cell_type": "code",
   "execution_count": 23,
   "id": "79c0f0d0",
   "metadata": {},
   "outputs": [],
   "source": [
    "# Outliers\n",
    "AverageIncomeOfThePopulation = []\n",
    "for num in dfm['AverageIncomeOfThePopulation']:\n",
    "    if num < round(dfm['AverageIncomeOfThePopulation'].mean() - 3*dfm['AverageIncomeOfThePopulation'].std()):\n",
    "        num = round(dfm['AverageIncomeOfThePopulation'].mean() - 3*dfm['AverageIncomeOfThePopulation'].std()) \n",
    "    AverageIncomeOfThePopulation.append(num)\n",
    "dfm['AverageIncomeOfThePopulation'] = AverageIncomeOfThePopulation"
   ]
  },
  {
   "cell_type": "code",
   "execution_count": 24,
   "id": "ee4457d0",
   "metadata": {},
   "outputs": [
    {
     "data": {
      "text/plain": [
       "count       69.000000\n",
       "mean     12056.624774\n",
       "std       2193.669141\n",
       "min       4568.000000\n",
       "25%      11060.000000\n",
       "50%      12180.000000\n",
       "75%      13300.000000\n",
       "max      16100.000000\n",
       "Name: AverageIncomeOfThePopulation, dtype: float64"
      ]
     },
     "execution_count": 24,
     "metadata": {},
     "output_type": "execute_result"
    }
   ],
   "source": [
    "dfm['AverageIncomeOfThePopulation'].describe()"
   ]
  },
  {
   "cell_type": "code",
   "execution_count": 25,
   "id": "3c0283b5",
   "metadata": {},
   "outputs": [
    {
     "data": {
      "text/html": [
       "<div>\n",
       "<style scoped>\n",
       "    .dataframe tbody tr th:only-of-type {\n",
       "        vertical-align: middle;\n",
       "    }\n",
       "\n",
       "    .dataframe tbody tr th {\n",
       "        vertical-align: top;\n",
       "    }\n",
       "\n",
       "    .dataframe thead th {\n",
       "        text-align: right;\n",
       "    }\n",
       "</style>\n",
       "<table border=\"1\" class=\"dataframe\">\n",
       "  <thead>\n",
       "    <tr style=\"text-align: right;\">\n",
       "      <th></th>\n",
       "      <th>Floor</th>\n",
       "      <th>Number_of_employees_in_the_state</th>\n",
       "      <th>NumberOfReviewInGoogle</th>\n",
       "      <th>NumberOfChecksPerMonth</th>\n",
       "      <th>human_traffic</th>\n",
       "      <th>AverageIncomeOfThePopulation</th>\n",
       "      <th>Stop_GT</th>\n",
       "      <th>Stop_GT_at_home</th>\n",
       "      <th>The_final_stop_of_the_GT</th>\n",
       "      <th>Crosswalk</th>\n",
       "      <th>Specialized_bread</th>\n",
       "    </tr>\n",
       "  </thead>\n",
       "  <tbody>\n",
       "    <tr>\n",
       "      <th>count</th>\n",
       "      <td>69.0</td>\n",
       "      <td>69.000000</td>\n",
       "      <td>69.000000</td>\n",
       "      <td>69.000000</td>\n",
       "      <td>69.000000</td>\n",
       "      <td>69.000000</td>\n",
       "      <td>69.000000</td>\n",
       "      <td>69.000000</td>\n",
       "      <td>69.000000</td>\n",
       "      <td>69.000000</td>\n",
       "      <td>69.000000</td>\n",
       "    </tr>\n",
       "    <tr>\n",
       "      <th>mean</th>\n",
       "      <td>1.0</td>\n",
       "      <td>3.652174</td>\n",
       "      <td>39.371237</td>\n",
       "      <td>7097.209677</td>\n",
       "      <td>2736.707654</td>\n",
       "      <td>12056.624774</td>\n",
       "      <td>0.362319</td>\n",
       "      <td>0.275362</td>\n",
       "      <td>0.086957</td>\n",
       "      <td>0.333333</td>\n",
       "      <td>0.318841</td>\n",
       "    </tr>\n",
       "    <tr>\n",
       "      <th>std</th>\n",
       "      <td>0.0</td>\n",
       "      <td>1.607209</td>\n",
       "      <td>44.994343</td>\n",
       "      <td>4049.160556</td>\n",
       "      <td>1916.244139</td>\n",
       "      <td>2193.669141</td>\n",
       "      <td>0.484192</td>\n",
       "      <td>0.449969</td>\n",
       "      <td>0.283836</td>\n",
       "      <td>0.474858</td>\n",
       "      <td>0.469441</td>\n",
       "    </tr>\n",
       "    <tr>\n",
       "      <th>min</th>\n",
       "      <td>1.0</td>\n",
       "      <td>2.000000</td>\n",
       "      <td>1.000000</td>\n",
       "      <td>878.000000</td>\n",
       "      <td>233.000000</td>\n",
       "      <td>4568.000000</td>\n",
       "      <td>0.000000</td>\n",
       "      <td>0.000000</td>\n",
       "      <td>0.000000</td>\n",
       "      <td>0.000000</td>\n",
       "      <td>0.000000</td>\n",
       "    </tr>\n",
       "    <tr>\n",
       "      <th>25%</th>\n",
       "      <td>1.0</td>\n",
       "      <td>2.000000</td>\n",
       "      <td>12.000000</td>\n",
       "      <td>3734.000000</td>\n",
       "      <td>1296.000000</td>\n",
       "      <td>11060.000000</td>\n",
       "      <td>0.000000</td>\n",
       "      <td>0.000000</td>\n",
       "      <td>0.000000</td>\n",
       "      <td>0.000000</td>\n",
       "      <td>0.000000</td>\n",
       "    </tr>\n",
       "    <tr>\n",
       "      <th>50%</th>\n",
       "      <td>1.0</td>\n",
       "      <td>4.000000</td>\n",
       "      <td>42.820513</td>\n",
       "      <td>6810.000000</td>\n",
       "      <td>2269.000000</td>\n",
       "      <td>12180.000000</td>\n",
       "      <td>0.000000</td>\n",
       "      <td>0.000000</td>\n",
       "      <td>0.000000</td>\n",
       "      <td>0.000000</td>\n",
       "      <td>0.000000</td>\n",
       "    </tr>\n",
       "    <tr>\n",
       "      <th>75%</th>\n",
       "      <td>1.0</td>\n",
       "      <td>4.000000</td>\n",
       "      <td>42.820513</td>\n",
       "      <td>8548.000000</td>\n",
       "      <td>3880.000000</td>\n",
       "      <td>13300.000000</td>\n",
       "      <td>1.000000</td>\n",
       "      <td>1.000000</td>\n",
       "      <td>0.000000</td>\n",
       "      <td>1.000000</td>\n",
       "      <td>1.000000</td>\n",
       "    </tr>\n",
       "    <tr>\n",
       "      <th>max</th>\n",
       "      <td>1.0</td>\n",
       "      <td>8.000000</td>\n",
       "      <td>227.000000</td>\n",
       "      <td>17537.000000</td>\n",
       "      <td>8701.000000</td>\n",
       "      <td>16100.000000</td>\n",
       "      <td>1.000000</td>\n",
       "      <td>1.000000</td>\n",
       "      <td>1.000000</td>\n",
       "      <td>1.000000</td>\n",
       "      <td>1.000000</td>\n",
       "    </tr>\n",
       "  </tbody>\n",
       "</table>\n",
       "</div>"
      ],
      "text/plain": [
       "       Floor  Number_of_employees_in_the_state  NumberOfReviewInGoogle  \\\n",
       "count   69.0                         69.000000               69.000000   \n",
       "mean     1.0                          3.652174               39.371237   \n",
       "std      0.0                          1.607209               44.994343   \n",
       "min      1.0                          2.000000                1.000000   \n",
       "25%      1.0                          2.000000               12.000000   \n",
       "50%      1.0                          4.000000               42.820513   \n",
       "75%      1.0                          4.000000               42.820513   \n",
       "max      1.0                          8.000000              227.000000   \n",
       "\n",
       "       NumberOfChecksPerMonth  human_traffic  AverageIncomeOfThePopulation  \\\n",
       "count               69.000000      69.000000                     69.000000   \n",
       "mean              7097.209677    2736.707654                  12056.624774   \n",
       "std               4049.160556    1916.244139                   2193.669141   \n",
       "min                878.000000     233.000000                   4568.000000   \n",
       "25%               3734.000000    1296.000000                  11060.000000   \n",
       "50%               6810.000000    2269.000000                  12180.000000   \n",
       "75%               8548.000000    3880.000000                  13300.000000   \n",
       "max              17537.000000    8701.000000                  16100.000000   \n",
       "\n",
       "         Stop_GT  Stop_GT_at_home  The_final_stop_of_the_GT  Crosswalk  \\\n",
       "count  69.000000        69.000000                 69.000000  69.000000   \n",
       "mean    0.362319         0.275362                  0.086957   0.333333   \n",
       "std     0.484192         0.449969                  0.283836   0.474858   \n",
       "min     0.000000         0.000000                  0.000000   0.000000   \n",
       "25%     0.000000         0.000000                  0.000000   0.000000   \n",
       "50%     0.000000         0.000000                  0.000000   0.000000   \n",
       "75%     1.000000         1.000000                  0.000000   1.000000   \n",
       "max     1.000000         1.000000                  1.000000   1.000000   \n",
       "\n",
       "       Specialized_bread  \n",
       "count          69.000000  \n",
       "mean            0.318841  \n",
       "std             0.469441  \n",
       "min             0.000000  \n",
       "25%             0.000000  \n",
       "50%             0.000000  \n",
       "75%             1.000000  \n",
       "max             1.000000  "
      ]
     },
     "execution_count": 25,
     "metadata": {},
     "output_type": "execute_result"
    }
   ],
   "source": [
    "dfm.describe()"
   ]
  },
  {
   "cell_type": "markdown",
   "id": "6d1bda1d",
   "metadata": {},
   "source": [
    "Таким образом удалены выбросы в переменных, в которых было соответствующее подозрение."
   ]
  },
  {
   "cell_type": "markdown",
   "id": "219bb42f",
   "metadata": {},
   "source": [
    "# Encoding"
   ]
  },
  {
   "cell_type": "code",
   "execution_count": 26,
   "id": "74315905",
   "metadata": {},
   "outputs": [],
   "source": [
    "# Function Encoding\n",
    "def encoding_char(x):\n",
    "    char_var = list(set(x.columns) - set(x._get_numeric_data().columns))\n",
    "    for col_names in char_var:\n",
    "        f = pd.factorize(x[col_names])\n",
    "        x[col_names] = pd.factorize(x[col_names])[0]\n",
    "    return(x)"
   ]
  },
  {
   "cell_type": "code",
   "execution_count": 27,
   "id": "2ca3c397",
   "metadata": {},
   "outputs": [
    {
     "data": {
      "text/plain": [
       "(69, 15)"
      ]
     },
     "execution_count": 27,
     "metadata": {},
     "output_type": "execute_result"
    }
   ],
   "source": [
    "dfm.shape"
   ]
  },
  {
   "cell_type": "code",
   "execution_count": 28,
   "id": "76938638",
   "metadata": {
    "scrolled": true
   },
   "outputs": [
    {
     "data": {
      "text/html": [
       "<div>\n",
       "<style scoped>\n",
       "    .dataframe tbody tr th:only-of-type {\n",
       "        vertical-align: middle;\n",
       "    }\n",
       "\n",
       "    .dataframe tbody tr th {\n",
       "        vertical-align: top;\n",
       "    }\n",
       "\n",
       "    .dataframe thead th {\n",
       "        text-align: right;\n",
       "    }\n",
       "</style>\n",
       "<table border=\"1\" class=\"dataframe\">\n",
       "  <thead>\n",
       "    <tr style=\"text-align: right;\">\n",
       "      <th></th>\n",
       "      <th>RetailSpace</th>\n",
       "      <th>Floor</th>\n",
       "      <th>Number_of_employees_in_the_state</th>\n",
       "      <th>Type</th>\n",
       "      <th>NumberOfReviewInGoogle</th>\n",
       "      <th>NumberOfChecksPerMonth</th>\n",
       "      <th>The_average_number_of_units_in_the_check</th>\n",
       "      <th>human_traffic</th>\n",
       "      <th>AverageIncomeOfThePopulation</th>\n",
       "      <th>Stop_GT</th>\n",
       "      <th>Stop_GT_at_home</th>\n",
       "      <th>The_final_stop_of_the_GT</th>\n",
       "      <th>Crosswalk</th>\n",
       "      <th>Specialized_bread</th>\n",
       "      <th>Success</th>\n",
       "    </tr>\n",
       "  </thead>\n",
       "  <tbody>\n",
       "    <tr>\n",
       "      <th>0</th>\n",
       "      <td>0</td>\n",
       "      <td>1</td>\n",
       "      <td>2</td>\n",
       "      <td>0</td>\n",
       "      <td>42.820513</td>\n",
       "      <td>1230.0</td>\n",
       "      <td>0</td>\n",
       "      <td>5211.0</td>\n",
       "      <td>15610.0</td>\n",
       "      <td>1</td>\n",
       "      <td>1</td>\n",
       "      <td>0</td>\n",
       "      <td>0</td>\n",
       "      <td>1</td>\n",
       "      <td>0</td>\n",
       "    </tr>\n",
       "    <tr>\n",
       "      <th>1</th>\n",
       "      <td>1</td>\n",
       "      <td>1</td>\n",
       "      <td>2</td>\n",
       "      <td>0</td>\n",
       "      <td>8.000000</td>\n",
       "      <td>2715.0</td>\n",
       "      <td>1</td>\n",
       "      <td>2424.0</td>\n",
       "      <td>12600.0</td>\n",
       "      <td>1</td>\n",
       "      <td>1</td>\n",
       "      <td>1</td>\n",
       "      <td>0</td>\n",
       "      <td>0</td>\n",
       "      <td>0</td>\n",
       "    </tr>\n",
       "    <tr>\n",
       "      <th>2</th>\n",
       "      <td>2</td>\n",
       "      <td>1</td>\n",
       "      <td>2</td>\n",
       "      <td>1</td>\n",
       "      <td>42.820513</td>\n",
       "      <td>878.0</td>\n",
       "      <td>2</td>\n",
       "      <td>3868.0</td>\n",
       "      <td>12600.0</td>\n",
       "      <td>1</td>\n",
       "      <td>1</td>\n",
       "      <td>0</td>\n",
       "      <td>1</td>\n",
       "      <td>1</td>\n",
       "      <td>0</td>\n",
       "    </tr>\n",
       "    <tr>\n",
       "      <th>3</th>\n",
       "      <td>3</td>\n",
       "      <td>1</td>\n",
       "      <td>2</td>\n",
       "      <td>1</td>\n",
       "      <td>42.820513</td>\n",
       "      <td>2346.0</td>\n",
       "      <td>3</td>\n",
       "      <td>4546.0</td>\n",
       "      <td>13930.0</td>\n",
       "      <td>1</td>\n",
       "      <td>1</td>\n",
       "      <td>0</td>\n",
       "      <td>0</td>\n",
       "      <td>1</td>\n",
       "      <td>0</td>\n",
       "    </tr>\n",
       "    <tr>\n",
       "      <th>4</th>\n",
       "      <td>1</td>\n",
       "      <td>1</td>\n",
       "      <td>2</td>\n",
       "      <td>1</td>\n",
       "      <td>42.820513</td>\n",
       "      <td>2542.0</td>\n",
       "      <td>4</td>\n",
       "      <td>3244.0</td>\n",
       "      <td>16030.0</td>\n",
       "      <td>0</td>\n",
       "      <td>0</td>\n",
       "      <td>0</td>\n",
       "      <td>0</td>\n",
       "      <td>0</td>\n",
       "      <td>0</td>\n",
       "    </tr>\n",
       "    <tr>\n",
       "      <th>5</th>\n",
       "      <td>4</td>\n",
       "      <td>1</td>\n",
       "      <td>2</td>\n",
       "      <td>0</td>\n",
       "      <td>9.000000</td>\n",
       "      <td>5478.0</td>\n",
       "      <td>5</td>\n",
       "      <td>2560.0</td>\n",
       "      <td>12320.0</td>\n",
       "      <td>0</td>\n",
       "      <td>0</td>\n",
       "      <td>0</td>\n",
       "      <td>0</td>\n",
       "      <td>1</td>\n",
       "      <td>0</td>\n",
       "    </tr>\n",
       "    <tr>\n",
       "      <th>6</th>\n",
       "      <td>5</td>\n",
       "      <td>1</td>\n",
       "      <td>4</td>\n",
       "      <td>0</td>\n",
       "      <td>21.000000</td>\n",
       "      <td>9115.0</td>\n",
       "      <td>6</td>\n",
       "      <td>1842.0</td>\n",
       "      <td>16100.0</td>\n",
       "      <td>0</td>\n",
       "      <td>0</td>\n",
       "      <td>0</td>\n",
       "      <td>1</td>\n",
       "      <td>0</td>\n",
       "      <td>1</td>\n",
       "    </tr>\n",
       "    <tr>\n",
       "      <th>7</th>\n",
       "      <td>6</td>\n",
       "      <td>1</td>\n",
       "      <td>6</td>\n",
       "      <td>0</td>\n",
       "      <td>227.000000</td>\n",
       "      <td>14777.0</td>\n",
       "      <td>7</td>\n",
       "      <td>412.0</td>\n",
       "      <td>12180.0</td>\n",
       "      <td>0</td>\n",
       "      <td>0</td>\n",
       "      <td>0</td>\n",
       "      <td>0</td>\n",
       "      <td>1</td>\n",
       "      <td>1</td>\n",
       "    </tr>\n",
       "    <tr>\n",
       "      <th>8</th>\n",
       "      <td>7</td>\n",
       "      <td>1</td>\n",
       "      <td>2</td>\n",
       "      <td>0</td>\n",
       "      <td>42.820513</td>\n",
       "      <td>2734.0</td>\n",
       "      <td>8</td>\n",
       "      <td>233.0</td>\n",
       "      <td>13930.0</td>\n",
       "      <td>0</td>\n",
       "      <td>0</td>\n",
       "      <td>0</td>\n",
       "      <td>0</td>\n",
       "      <td>0</td>\n",
       "      <td>0</td>\n",
       "    </tr>\n",
       "    <tr>\n",
       "      <th>9</th>\n",
       "      <td>8</td>\n",
       "      <td>1</td>\n",
       "      <td>2</td>\n",
       "      <td>0</td>\n",
       "      <td>17.000000</td>\n",
       "      <td>6322.0</td>\n",
       "      <td>9</td>\n",
       "      <td>978.0</td>\n",
       "      <td>14560.0</td>\n",
       "      <td>0</td>\n",
       "      <td>0</td>\n",
       "      <td>0</td>\n",
       "      <td>1</td>\n",
       "      <td>0</td>\n",
       "      <td>0</td>\n",
       "    </tr>\n",
       "  </tbody>\n",
       "</table>\n",
       "</div>"
      ],
      "text/plain": [
       "   RetailSpace  Floor  Number_of_employees_in_the_state  Type  \\\n",
       "0            0      1                                 2     0   \n",
       "1            1      1                                 2     0   \n",
       "2            2      1                                 2     1   \n",
       "3            3      1                                 2     1   \n",
       "4            1      1                                 2     1   \n",
       "5            4      1                                 2     0   \n",
       "6            5      1                                 4     0   \n",
       "7            6      1                                 6     0   \n",
       "8            7      1                                 2     0   \n",
       "9            8      1                                 2     0   \n",
       "\n",
       "   NumberOfReviewInGoogle  NumberOfChecksPerMonth  \\\n",
       "0               42.820513                  1230.0   \n",
       "1                8.000000                  2715.0   \n",
       "2               42.820513                   878.0   \n",
       "3               42.820513                  2346.0   \n",
       "4               42.820513                  2542.0   \n",
       "5                9.000000                  5478.0   \n",
       "6               21.000000                  9115.0   \n",
       "7              227.000000                 14777.0   \n",
       "8               42.820513                  2734.0   \n",
       "9               17.000000                  6322.0   \n",
       "\n",
       "   The_average_number_of_units_in_the_check  human_traffic  \\\n",
       "0                                         0         5211.0   \n",
       "1                                         1         2424.0   \n",
       "2                                         2         3868.0   \n",
       "3                                         3         4546.0   \n",
       "4                                         4         3244.0   \n",
       "5                                         5         2560.0   \n",
       "6                                         6         1842.0   \n",
       "7                                         7          412.0   \n",
       "8                                         8          233.0   \n",
       "9                                         9          978.0   \n",
       "\n",
       "   AverageIncomeOfThePopulation  Stop_GT  Stop_GT_at_home  \\\n",
       "0                       15610.0        1                1   \n",
       "1                       12600.0        1                1   \n",
       "2                       12600.0        1                1   \n",
       "3                       13930.0        1                1   \n",
       "4                       16030.0        0                0   \n",
       "5                       12320.0        0                0   \n",
       "6                       16100.0        0                0   \n",
       "7                       12180.0        0                0   \n",
       "8                       13930.0        0                0   \n",
       "9                       14560.0        0                0   \n",
       "\n",
       "   The_final_stop_of_the_GT  Crosswalk  Specialized_bread  Success  \n",
       "0                         0          0                  1        0  \n",
       "1                         1          0                  0        0  \n",
       "2                         0          1                  1        0  \n",
       "3                         0          0                  1        0  \n",
       "4                         0          0                  0        0  \n",
       "5                         0          0                  1        0  \n",
       "6                         0          1                  0        1  \n",
       "7                         0          0                  1        1  \n",
       "8                         0          0                  0        0  \n",
       "9                         0          1                  0        0  "
      ]
     },
     "execution_count": 28,
     "metadata": {},
     "output_type": "execute_result"
    }
   ],
   "source": [
    "# Encoding categorical data\n",
    "dfm = encoding_char(dfm)\n",
    "dfm.head (10)"
   ]
  },
  {
   "cell_type": "markdown",
   "id": "cada0190",
   "metadata": {},
   "source": [
    "Данные были закодированы"
   ]
  },
  {
   "cell_type": "code",
   "execution_count": 32,
   "id": "e1cd40a9",
   "metadata": {},
   "outputs": [],
   "source": [
    "#!pip install seaborn"
   ]
  },
  {
   "cell_type": "markdown",
   "id": "4da274e6",
   "metadata": {},
   "source": [
    "# Correlations"
   ]
  },
  {
   "cell_type": "code",
   "execution_count": 33,
   "id": "e4cf8981",
   "metadata": {},
   "outputs": [
    {
     "data": {
      "image/png": "[encoded data removed]",
      "text/plain": [
       "<Figure size 1440x1440 with 2 Axes>"
      ]
     },
     "metadata": {
      "needs_background": "light"
     },
     "output_type": "display_data"
    }
   ],
   "source": [
    "# Cheking correlations\n",
    "import seaborn as sns\n",
    "corrmat = dfm.corr()\n",
    "f, ax = plt.subplots(figsize=(20, 20))\n",
    "sns.heatmap(corrmat, annot=True)\n",
    "plt.show()"
   ]
  },
  {
   "cell_type": "code",
   "execution_count": 39,
   "id": "904a230a",
   "metadata": {},
   "outputs": [
    {
     "data": {
      "text/plain": [
       "(69, 11)"
      ]
     },
     "execution_count": 39,
     "metadata": {},
     "output_type": "execute_result"
    }
   ],
   "source": [
    "# Removing Correlated Data\n",
    "dfr = dfm.drop(['Floor','Number_of_employees_in_the_state','NumberOfChecksPerMonth','Stop_GT_at_home'], axis='columns', inplace=False)\n",
    "dfr.shape"
   ]
  },
  {
   "cell_type": "code",
   "execution_count": 40,
   "id": "1141fc1c",
   "metadata": {
    "scrolled": false
   },
   "outputs": [
    {
     "data": {
      "image/png": "[encoded data removed]",
      "text/plain": [
       "<Figure size 1440x1440 with 2 Axes>"
      ]
     },
     "metadata": {
      "needs_background": "light"
     },
     "output_type": "display_data"
    }
   ],
   "source": [
    "# Cheking correlations\n",
    "import seaborn as sns\n",
    "corrmat = dfr.corr()\n",
    "f, ax = plt.subplots(figsize=(20, 20))\n",
    "sns.heatmap(corrmat, annot=True)\n",
    "plt.show()"
   ]
  },
  {
   "cell_type": "markdown",
   "id": "24e2a512",
   "metadata": {},
   "source": [
    "Из модели были убраны сильно коррелируемые переменные. Таким образом, данные подготовлены для дальнейшей работы и могут быть использованы для псотроения моделей классификации и кластеризации."
   ]
  },
  {
   "cell_type": "code",
   "execution_count": 41,
   "id": "45a68ace",
   "metadata": {},
   "outputs": [],
   "source": [
    "# Exporting the dataset\n",
    "dfr.to_csv('kr_2.csv', sep=';', index=False)"
   ]
  }
 ],
 "metadata": {
  "kernelspec": {
   "display_name": "Python 3 (ipykernel)",
   "language": "python",
   "name": "python3"
  },
  "language_info": {
   "codemirror_mode": {
    "name": "ipython",
    "version": 3
   },
   "file_extension": ".py",
   "mimetype": "text/x-python",
   "name": "python",
   "nbconvert_exporter": "python",
   "pygments_lexer": "ipython3",
   "version": "3.8.12"
  }
 },
 "nbformat": 4,
 "nbformat_minor": 5
}
